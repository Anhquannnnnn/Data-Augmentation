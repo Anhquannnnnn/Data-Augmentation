{
 "cells": [
  {
   "cell_type": "code",
   "execution_count": null,
   "id": "b329388c-295d-4e72-9997-ac5fa570ff02",
   "metadata": {},
   "outputs": [],
   "source": [
    "import numpy as np\n",
    "class DataSampler(object):\n",
    "    "
   ]
  }
 ],
 "metadata": {
  "kernelspec": {
   "display_name": "Pytorch Environment",
   "language": "python",
   "name": "torchenv"
  },
  "language_info": {
   "codemirror_mode": {
    "name": "ipython",
    "version": 3
   },
   "file_extension": ".py",
   "mimetype": "text/x-python",
   "name": "python",
   "nbconvert_exporter": "python",
   "pygments_lexer": "ipython3",
   "version": "3.13.2"
  }
 },
 "nbformat": 4,
 "nbformat_minor": 5
}
